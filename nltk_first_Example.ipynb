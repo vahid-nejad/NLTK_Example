{
  "nbformat": 4,
  "nbformat_minor": 0,
  "metadata": {
    "kernelspec": {
      "display_name": "Python 3",
      "language": "python",
      "name": "python3"
    },
    "language_info": {
      "codemirror_mode": {
        "name": "ipython",
        "version": 3
      },
      "file_extension": ".py",
      "mimetype": "text/x-python",
      "name": "python",
      "nbconvert_exporter": "python",
      "pygments_lexer": "ipython3",
      "version": "3.7.0"
    },
    "colab": {
      "name": "NLP_FirstProject_NejadMahoodabdi.ipynb",
      "provenance": [],
      "collapsed_sections": []
    }
  },
  "cells": [
    {
      "cell_type": "code",
      "metadata": {
        "id": "B1q9YyEL8sIZ"
      },
      "source": [
        ""
      ],
      "execution_count": null,
      "outputs": []
    },
    {
      "cell_type": "code",
      "metadata": {
        "id": "KmHDNa32D_ek",
        "colab": {
          "base_uri": "https://localhost:8080/"
        },
        "outputId": "d5f8470f-e94d-4de6-fc14-4630e664edf7"
      },
      "source": [
        "# Written by Vahid \n",
        "# This cell calculates the number of files in each directory of the corpus\n",
        "from nltk.corpus import CategorizedPlaintextCorpusReader\n",
        "from termcolor import colored\n",
        " \n",
        "reader = CategorizedPlaintextCorpusReader(r'/corpus', r'.*\\.txt', cat_pattern=r'(\\w+)')\n",
        "for dir in reader.categories():\n",
        "  files=reader.fileids(categories=dir)\n",
        "  print(\"The number of files in sub dirctory \\'{0}\\' is {1}\".format(dir,len(files)))"
      ],
      "execution_count": null,
      "outputs": [
        {
          "output_type": "stream",
          "text": [
            "The number of files in sub dirctory 'culture' is 4\n",
            "The number of files in sub dirctory 'news' is 3\n",
            "The number of files in sub dirctory 'poltics' is 3\n",
            "The number of files in sub dirctory 'social' is 2\n",
            "The number of files in sub dirctory 'sport' is 3\n"
          ],
          "name": "stdout"
        }
      ]
    },
    {
      "cell_type": "code",
      "metadata": {
        "id": "tUVpgSCdBZ00",
        "colab": {
          "base_uri": "https://localhost:8080/"
        },
        "outputId": "403631da-45e4-4fd0-b303-46c0c0415d2b"
      },
      "source": [
        ""
      ],
      "execution_count": null,
      "outputs": [
        {
          "output_type": "stream",
          "text": [
            "['culture/Art Studio Drive set to celebrate artists during Cochrane Culture Days.txt', 'culture/COCHRANE— Creating a unique studio tour that can be enjoyed in-person or online, The Town of Cochrane has partnered with the Cochrane Integrated Art Society to celebrate Cochrane Culture Days..txt', 'culture/MICA students contribute to ‘Heritage Olympiad’ through digital outreach.txt', \"culture/Works of Media Art inspired by the movement of Japan's samurai .txt\", 'news/Amazon-backed food delivery firm Deliveroo picks London for its blockbuster debut.txt', 'news/Canada vaccine panel recommends 4 months between COVID doses.txt', 'news/Disney Closing at Least 20% of Physical Disney Stores, Focus Shifts to E-Commerce.txt', 'poltics/Iceland preparing for possible volcano eruption after thousands of earthquakes in past week.txt', 'poltics/Italy reportedly blocks shipment of AstraZeneca Covid vaccine destined for Australia.txt', 'poltics/Loyalist group withdraws support for Good Friday Agreement.txt', 'social/The 8 Best Social Media Platforms to Market Your Business in 2021.txt', 'social/What is the social responsibility of social media influencers.txt', 'sport/Barcelona youngster returns to training ahead of schedule.txt', 'sport/Hamilton No real need to plan too far ahead.txt', \"sport/The Ligue 1 giants will host the Blaugrana in a week's time boasting a 4-1 lead but will have to make do without one influential player..txt\"]\n"
          ],
          "name": "stdout"
        }
      ]
    },
    {
      "cell_type": "code",
      "metadata": {
        "id": "CXCWNWVaD_el",
        "colab": {
          "base_uri": "https://localhost:8080/"
        },
        "outputId": "3eb378de-f84d-422b-f4cb-142c2efa5e9e"
      },
      "source": [
        "# this cell randomly selects a file from the corpus and then calculates the number of words in that file\r\n",
        "from random import randint\r\n",
        "\r\n",
        "categories=reader.categories()\r\n",
        "randomCategory=categories[randint(0,len(categories)-1)]\r\n",
        "randomCategoryFiles=reader.fileids(categories=randomCategory)\r\n",
        "randomFile=randomCategoryFiles[randint(0,len(randomCategoryFiles)-1)]\r\n",
        "print( colored('Randomly selected file is', 'green'), randomFile)\r\n",
        "wordCount=len(reader.words(randomFile))\r\n",
        "print(colored('And the file contains', 'green'), wordCount ,colored('word(s)', 'green'))\r\n",
        "\r\n"
      ],
      "execution_count": null,
      "outputs": [
        {
          "output_type": "stream",
          "text": [
            "\u001b[32mRandomly selected file is\u001b[0m poltics/Loyalist group withdraws support for Good Friday Agreement.txt\n",
            "\u001b[32mAnd the file contains\u001b[0m 228 \u001b[32mword(s)\u001b[0m\n"
          ],
          "name": "stdout"
        }
      ]
    },
    {
      "cell_type": "code",
      "metadata": {
        "colab": {
          "base_uri": "https://localhost:8080/"
        },
        "id": "Ph1eLNYLhIIM",
        "outputId": "76232992-9111-438a-8f06-58fb90b0d0c0"
      },
      "source": [
        "# This cell returns the number of am, is and are in all files\r\n",
        "from nltk import FreqDist\r\n",
        "tobeVerbs=['am', 'is','are']\r\n",
        "for f in reader.fileids():\r\n",
        "  print()\r\n",
        "  words=reader.words(f)\r\n",
        "  print(\"Analysing file '\"+ f + \"'with be verbs\")\r\n",
        "  fdist = FreqDist(words)\r\n",
        "  for verb in tobeVerbs:\r\n",
        "    print(verb + ':', fdist[verb], end='; ')\r\n",
        "\r\n"
      ],
      "execution_count": null,
      "outputs": [
        {
          "output_type": "stream",
          "text": [
            "\n",
            "Analysing file 'culture/Art Studio Drive set to celebrate artists during Cochrane Culture Days.txt'with be verbs\n",
            "am: 0; is: 4; are: 4; \n",
            "Analysing file 'culture/COCHRANE— Creating a unique studio tour that can be enjoyed in-person or online, The Town of Cochrane has partnered with the Cochrane Integrated Art Society to celebrate Cochrane Culture Days..txt'with be verbs\n",
            "am: 0; is: 9; are: 9; \n",
            "Analysing file 'culture/MICA students contribute to ‘Heritage Olympiad’ through digital outreach.txt'with be verbs\n",
            "am: 2; is: 0; are: 2; \n",
            "Analysing file 'culture/Works of Media Art inspired by the movement of Japan's samurai .txt'with be verbs\n",
            "am: 0; is: 4; are: 4; \n",
            "Analysing file 'news/Amazon-backed food delivery firm Deliveroo picks London for its blockbuster debut.txt'with be verbs\n",
            "am: 0; is: 4; are: 0; \n",
            "Analysing file 'news/Canada vaccine panel recommends 4 months between COVID doses.txt'with be verbs\n",
            "am: 0; is: 3; are: 3; \n",
            "Analysing file 'news/Disney Closing at Least 20% of Physical Disney Stores, Focus Shifts to E-Commerce.txt'with be verbs\n",
            "am: 0; is: 1; are: 0; \n",
            "Analysing file 'poltics/Iceland preparing for possible volcano eruption after thousands of earthquakes in past week.txt'with be verbs\n",
            "am: 0; is: 5; are: 3; \n",
            "Analysing file 'poltics/Italy reportedly blocks shipment of AstraZeneca Covid vaccine destined for Australia.txt'with be verbs\n",
            "am: 0; is: 0; are: 0; \n",
            "Analysing file 'poltics/Loyalist group withdraws support for Good Friday Agreement.txt'with be verbs\n",
            "am: 0; is: 1; are: 1; \n",
            "Analysing file 'social/The 8 Best Social Media Platforms to Market Your Business in 2021.txt'with be verbs\n",
            "am: 0; is: 0; are: 1; \n",
            "Analysing file 'social/What is the social responsibility of social media influencers.txt'with be verbs\n",
            "am: 0; is: 1; are: 1; \n",
            "Analysing file 'sport/Barcelona youngster returns to training ahead of schedule.txt'with be verbs\n",
            "am: 0; is: 2; are: 1; \n",
            "Analysing file 'sport/Hamilton No real need to plan too far ahead.txt'with be verbs\n",
            "am: 0; is: 1; are: 3; \n",
            "Analysing file 'sport/The Ligue 1 giants will host the Blaugrana in a week's time boasting a 4-1 lead but will have to make do without one influential player..txt'with be verbs\n",
            "am: 0; is: 5; are: 0; "
          ],
          "name": "stdout"
        }
      ]
    },
    {
      "cell_type": "code",
      "metadata": {
        "colab": {
          "base_uri": "https://localhost:8080/"
        },
        "id": "X4J4FJwW76rj",
        "outputId": "610d9f7b-5bed-4773-baf1-1b2cb1b1871e"
      },
      "source": [
        "# This cell returns the most frequent number in each file\r\n",
        "for f in reader.fileids():\r\n",
        "  print()\r\n",
        "  words=reader.words(f)\r\n",
        "  print(\"Analysing file '\"+ f + \"'for most frequent word \")\r\n",
        "  fdist = FreqDist(words)\r\n",
        "\r\n",
        "  print('the most frequent word of the file is',colored('\\''+fdist.max()+'\\'','green'),'with the number of occurance',colored(fdist[fdist.max()],'green'))"
      ],
      "execution_count": null,
      "outputs": [
        {
          "output_type": "stream",
          "text": [
            "\n",
            "Analysing file 'culture/Art Studio Drive set to celebrate artists during Cochrane Culture Days.txt'for most frequent word \n",
            "the most frequent word of the file is \u001b[32m'to'\u001b[0m with the number of occurance \u001b[32m11\u001b[0m\n",
            "\n",
            "Analysing file 'culture/COCHRANE— Creating a unique studio tour that can be enjoyed in-person or online, The Town of Cochrane has partnered with the Cochrane Integrated Art Society to celebrate Cochrane Culture Days..txt'for most frequent word \n",
            "the most frequent word of the file is \u001b[32m'the'\u001b[0m with the number of occurance \u001b[32m35\u001b[0m\n",
            "\n",
            "Analysing file 'culture/MICA students contribute to ‘Heritage Olympiad’ through digital outreach.txt'for most frequent word \n",
            "the most frequent word of the file is \u001b[32m','\u001b[0m with the number of occurance \u001b[32m10\u001b[0m\n",
            "\n",
            "Analysing file 'culture/Works of Media Art inspired by the movement of Japan's samurai .txt'for most frequent word \n",
            "the most frequent word of the file is \u001b[32m'the'\u001b[0m with the number of occurance \u001b[32m38\u001b[0m\n",
            "\n",
            "Analysing file 'news/Amazon-backed food delivery firm Deliveroo picks London for its blockbuster debut.txt'for most frequent word \n",
            "the most frequent word of the file is \u001b[32m'the'\u001b[0m with the number of occurance \u001b[32m11\u001b[0m\n",
            "\n",
            "Analysing file 'news/Canada vaccine panel recommends 4 months between COVID doses.txt'for most frequent word \n",
            "the most frequent word of the file is \u001b[32m'the'\u001b[0m with the number of occurance \u001b[32m26\u001b[0m\n",
            "\n",
            "Analysing file 'news/Disney Closing at Least 20% of Physical Disney Stores, Focus Shifts to E-Commerce.txt'for most frequent word \n",
            "the most frequent word of the file is \u001b[32m'and'\u001b[0m with the number of occurance \u001b[32m5\u001b[0m\n",
            "\n",
            "Analysing file 'poltics/Iceland preparing for possible volcano eruption after thousands of earthquakes in past week.txt'for most frequent word \n",
            "the most frequent word of the file is \u001b[32m'the'\u001b[0m with the number of occurance \u001b[32m20\u001b[0m\n",
            "\n",
            "Analysing file 'poltics/Italy reportedly blocks shipment of AstraZeneca Covid vaccine destined for Australia.txt'for most frequent word \n",
            "the most frequent word of the file is \u001b[32m'the'\u001b[0m with the number of occurance \u001b[32m20\u001b[0m\n",
            "\n",
            "Analysing file 'poltics/Loyalist group withdraws support for Good Friday Agreement.txt'for most frequent word \n",
            "the most frequent word of the file is \u001b[32m'the'\u001b[0m with the number of occurance \u001b[32m21\u001b[0m\n",
            "\n",
            "Analysing file 'social/The 8 Best Social Media Platforms to Market Your Business in 2021.txt'for most frequent word \n",
            "the most frequent word of the file is \u001b[32m'the'\u001b[0m with the number of occurance \u001b[32m6\u001b[0m\n",
            "\n",
            "Analysing file 'social/What is the social responsibility of social media influencers.txt'for most frequent word \n",
            "the most frequent word of the file is \u001b[32m','\u001b[0m with the number of occurance \u001b[32m26\u001b[0m\n",
            "\n",
            "Analysing file 'sport/Barcelona youngster returns to training ahead of schedule.txt'for most frequent word \n",
            "the most frequent word of the file is \u001b[32m'the'\u001b[0m with the number of occurance \u001b[32m15\u001b[0m\n",
            "\n",
            "Analysing file 'sport/Hamilton No real need to plan too far ahead.txt'for most frequent word \n",
            "the most frequent word of the file is \u001b[32m'the'\u001b[0m with the number of occurance \u001b[32m11\u001b[0m\n",
            "\n",
            "Analysing file 'sport/The Ligue 1 giants will host the Blaugrana in a week's time boasting a 4-1 lead but will have to make do without one influential player..txt'for most frequent word \n",
            "the most frequent word of the file is \u001b[32m'the'\u001b[0m with the number of occurance \u001b[32m19\u001b[0m\n"
          ],
          "name": "stdout"
        }
      ]
    }
  ]
}